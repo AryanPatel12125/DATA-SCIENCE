{
 "cells": [
  {
   "cell_type": "code",
   "execution_count": 18,
   "id": "9960e1b0",
   "metadata": {},
   "outputs": [],
   "source": [
    "import pandas as pd\n",
    "import re"
   ]
  },
  {
   "cell_type": "code",
   "execution_count": 30,
   "id": "8c793e5c",
   "metadata": {},
   "outputs": [],
   "source": [
    "data = pd.read_csv('C:\\\\Users\\\\aryan\\\\OneDrive\\\\Documents\\\\DATA SCIENCE\\\\THIRDAI HACKATHON\\\\cleaned_data_covid.csv')"
   ]
  },
  {
   "cell_type": "code",
   "execution_count": 31,
   "id": "2c83f5e1",
   "metadata": {},
   "outputs": [],
   "source": [
    "def clean_special_chars(text):\n",
    "    # Replace special characters with an empty string\n",
    "    cleaned_text = re.sub(r'[^\\x00-\\x7F]+', '', text)\n",
    "    return cleaned_text\n"
   ]
  },
  {
   "cell_type": "code",
   "execution_count": 32,
   "id": "18c5804b",
   "metadata": {},
   "outputs": [],
   "source": [
    "# Replace 'column_name' with the actual name of the column containing special characters\n",
    "# Replace 'column_to_clean' with the actual name of the column you want to clean\n",
    "data['text'] = data['text'].apply(clean_special_chars)\n"
   ]
  },
  {
   "cell_type": "code",
   "execution_count": 34,
   "id": "6f61c951",
   "metadata": {},
   "outputs": [],
   "source": [
    "data.to_csv('cleaned_data_covid2.csv', index=False)"
   ]
  },
  {
   "cell_type": "code",
   "execution_count": 35,
   "id": "0b644b8c",
   "metadata": {},
   "outputs": [],
   "source": [
    "import pandas as pd\n",
    "\n",
    "# Assuming you have already loaded your data into a pandas DataFrame called 'data'\n",
    "# Replace 'column_name' with the actual name of the column containing null values\n",
    "\n",
    "# First, replace the null values in the specified column with \"USER\"\n",
    "data['user_name'].fillna(\"USER\", inplace=True)\n",
    "\n",
    "# If you want to replace null values in multiple columns simultaneously, you can do:\n",
    "# data.fillna({\"column_name1\": \"USER\", \"column_name2\": \"USER\"}, inplace=True)\n",
    "\n",
    "# If you want to replace null values in the entire DataFrame with \"USER\", use:\n",
    "# data.fillna(\"USER\", inplace=True)\n",
    "\n",
    "# Save the updated DataFrame back to a new CSV file (optional):\n",
    "data.to_csv('cleaned_data_final.csv', index=False)\n"
   ]
  }
 ],
 "metadata": {
  "kernelspec": {
   "display_name": "Python 3 (ipykernel)",
   "language": "python",
   "name": "python3"
  },
  "language_info": {
   "codemirror_mode": {
    "name": "ipython",
    "version": 3
   },
   "file_extension": ".py",
   "mimetype": "text/x-python",
   "name": "python",
   "nbconvert_exporter": "python",
   "pygments_lexer": "ipython3",
   "version": "3.10.9"
  }
 },
 "nbformat": 4,
 "nbformat_minor": 5
}
